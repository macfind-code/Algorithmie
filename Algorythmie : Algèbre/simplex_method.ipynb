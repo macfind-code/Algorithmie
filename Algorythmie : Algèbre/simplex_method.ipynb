{
 "cells": [
  {
   "cell_type": "code",
   "execution_count": 1,
   "id": "0dea5b48",
   "metadata": {},
   "outputs": [
    {
     "name": "stdout",
     "output_type": "stream",
     "text": [
      "Le coût global est de 1000.00 €\n"
     ]
    }
   ],
   "source": [
    "def calculer_cout_global(cout_variable, cout_unitaire, nombre_produit):\n",
    "    \"\"\"\n",
    "    Calcule le coût global à partir du coût variable, du coût unitaire et du nombre de produits.\n",
    "    \n",
    "    Arguments :\n",
    "    cout_variable (float) : Le coût variable fixe.\n",
    "    cout_unitaire (float) : Le coût unitaire par produit.\n",
    "    nombre_produit (int) : Le nombre de produits fabriqués.\n",
    "    \n",
    "    Retourne :\n",
    "    float : Le coût global.\n",
    "    \"\"\"\n",
    "    # Calcul du coût global\n",
    "    cout_global = cout_variable + (cout_unitaire * nombre_produit)\n",
    "    return cout_global\n",
    "\n",
    "# Exemple d'utilisation\n",
    "cout_variable = 500.0\n",
    "cout_unitaire = 10.0\n",
    "nombre_produit = 50\n",
    "\n",
    "cout_total = calculer_cout_global(cout_variable, cout_unitaire, nombre_produit)\n",
    "print(f\"Le coût global est de {cout_total:.2f} €\")"
   ]
  },
  {
   "cell_type": "code",
   "execution_count": 12,
   "id": "5734e11c",
   "metadata": {},
   "outputs": [
    {
     "name": "stdout",
     "output_type": "stream",
     "text": [
      "Matrice :\n",
      "[[10  5]\n",
      " [-4  1]]\n",
      "\n",
      "Vecteur :\n",
      "[[9000]\n",
      " [  50]]\n"
     ]
    }
   ],
   "source": [
    "import numpy as np\n",
    "\n",
    "matrice = np.array([[10, 5], \n",
    "                    [-4, 1]])\n",
    "vecteur = np.array([[9000], \n",
    "                    [50]])\n",
    "\n",
    "print(\"Matrice :\")\n",
    "print(matrice)\n",
    "print(\"\\nVecteur :\")\n",
    "print(vecteur)"
   ]
  },
  {
   "cell_type": "code",
   "execution_count": 13,
   "id": "f1ea2419",
   "metadata": {},
   "outputs": [
    {
     "data": {
      "text/plain": [
       "array([[ 0.03333333, -0.16666667],\n",
       "       [ 0.13333333,  0.33333333]])"
      ]
     },
     "execution_count": 13,
     "metadata": {},
     "output_type": "execute_result"
    }
   ],
   "source": [
    "from numpy.linalg import inv\n",
    "inv(matrice)"
   ]
  },
  {
   "cell_type": "code",
   "execution_count": 14,
   "id": "dd6b33d5",
   "metadata": {},
   "outputs": [
    {
     "data": {
      "text/plain": [
       "array([[ 90250],\n",
       "       [-35950]])"
      ]
     },
     "execution_count": 14,
     "metadata": {},
     "output_type": "execute_result"
    }
   ],
   "source": [
    "np.dot(matrice,vecteur)"
   ]
  },
  {
   "cell_type": "code",
   "execution_count": 28,
   "id": "412fe681",
   "metadata": {},
   "outputs": [
    {
     "name": "stdout",
     "output_type": "stream",
     "text": [
      "Matrice aléatoire 1 (4x1):\n",
      "[[1]\n",
      " [3]\n",
      " [6]\n",
      " [1]]\n",
      "------------------------------\n",
      "Matrice aléatoire 2 (2x1):\n",
      "[[8]\n",
      " [8]]\n",
      "------------------------------\n",
      "Matrice aléatoire 3 (3x1):\n",
      "[[1]\n",
      " [7]\n",
      " [8]]\n",
      "------------------------------\n",
      "Matrice aléatoire 4 (1x1):\n",
      "[[6]]\n",
      "------------------------------\n",
      "Matrice aléatoire 5 (3x1):\n",
      "[[ 5]\n",
      " [10]\n",
      " [ 4]]\n",
      "------------------------------\n"
     ]
    }
   ],
   "source": [
    "import numpy as np\n",
    "\n",
    "# Fonction pour générer une matrice aléatoire\n",
    "def generer_matrice_aleatoire(lignes, colonnes, min_val=1, max_val=10):\n",
    "\n",
    "    return np.random.randint(min_val, max_val + 1, size=(lignes, colonnes))\n",
    "\n",
    "# Boucle pour générer plusieurs matrices\n",
    "nombre_matrices = 5  # Nombre de matrices à générer\n",
    "for i in range(nombre_matrices):\n",
    "    lignes = np.random.randint(1, 5)  # Nombre de lignes entre 1 et 4\n",
    "    colonnes = np.random.randint(1, 2)  # Nombre de colonnes entre 1 et 2\n",
    "    matrice = generer_matrice_aleatoire(lignes, colonnes)\n",
    "    print(f\"Matrice aléatoire {i + 1} ({lignes}x{colonnes}):\")\n",
    "    print(matrice)\n",
    "    print(\"-\" * 30)"
   ]
  },
  {
   "cell_type": "code",
   "execution_count": 29,
   "id": "b6800c76",
   "metadata": {},
   "outputs": [
    {
     "name": "stdout",
     "output_type": "stream",
     "text": [
      "Test 1 :\n",
      "Matrice A :\n",
      "[[  1   3   3]\n",
      " [-10  -3   2]\n",
      " [  5   9   1]]\n",
      "Vecteur b :\n",
      "[-1 -8  9]\n",
      "La solution unique est : [ 0.19354839  1.05376344 -1.4516129 ]\n",
      "--------------------------------------------------\n",
      "Test 2 :\n",
      "Matrice A :\n",
      "[[ 3  5  3]\n",
      " [-8  6  5]\n",
      " [ 0  4 -3]]\n",
      "Vecteur b :\n",
      "[-6 -9 -7]\n",
      "La solution unique est : [ 0.19393939 -1.50909091  0.32121212]\n",
      "--------------------------------------------------\n",
      "Test 3 :\n",
      "Matrice A :\n",
      "[[ -7  -1 -10]\n",
      " [  8  -5   3]\n",
      " [  9  -6  -8]]\n",
      "Vecteur b :\n",
      "[0 3 8]\n",
      "La solution unique est : [ 0.5738758   0.07280514 -0.40899358]\n",
      "--------------------------------------------------\n",
      "Test 4 :\n",
      "Matrice A :\n",
      "[[  9  -4 -10]\n",
      " [ -7   1  -1]\n",
      " [ -4  -8   5]]\n",
      "Vecteur b :\n",
      "[ 4 -8  6]\n",
      "La solution unique est : [ 0.92975734 -0.75351213  0.73818646]\n",
      "--------------------------------------------------\n",
      "Test 5 :\n",
      "Matrice A :\n",
      "[[ -9   3  -5]\n",
      " [ -4 -10   3]\n",
      " [ -5  -9 -10]]\n",
      "Vecteur b :\n",
      "[-2 -1 -8]\n",
      "La solution unique est : [0.00080775 0.26736672 0.55896607]\n",
      "--------------------------------------------------\n"
     ]
    }
   ],
   "source": [
    "import numpy as np\n",
    "from numpy.linalg import LinAlgError, det\n",
    "\n",
    "def verifier_et_donner_solution(A, b):\n",
    "    \"\"\"\n",
    "    Vérifie si le système A * x = b a une solution unique et renvoie cette solution.\n",
    "    \n",
    "    Arguments :\n",
    "    A : numpy.ndarray : Matrice des coefficients (carrée pour une solution unique).\n",
    "    b : numpy.ndarray : Vecteur des termes constants.\n",
    "    \n",
    "    Retourne :\n",
    "    str : La solution si elle existe, ou un message indiquant l'absence de solution.\n",
    "    \"\"\"\n",
    "    # Vérification que la matrice A est carrée\n",
    "    if A.shape[0] != A.shape[1]:\n",
    "        return \"La matrice A doit être carrée pour garantir une solution unique.\"\n",
    "    \n",
    "    # Vérification si la matrice A est inversible\n",
    "    if det(A) == 0:\n",
    "        return \"La matrice A n'est pas inversible. Le système n'a pas de solution unique.\"\n",
    "    \n",
    "    # Résolution du système\n",
    "    try:\n",
    "        solution = np.linalg.solve(A, b)\n",
    "        return f\"La solution unique est : {solution}\"\n",
    "    except LinAlgError:\n",
    "        return \"Erreur lors de la résolution du système.\"\n",
    "\n",
    "# Générer et tester des matrices aléatoires\n",
    "def tester_matrices_aleatoires(nombre_matrices, taille_matrice):\n",
    "    \"\"\"\n",
    "    Génère et teste des systèmes aléatoires A * x = b.\n",
    "    \n",
    "    Arguments :\n",
    "    nombre_matrices (int) : Nombre de systèmes à générer.\n",
    "    taille_matrice (int) : Taille des matrices carrées (n x n).\n",
    "    \"\"\"\n",
    "    for i in range(nombre_matrices):\n",
    "        # Générer une matrice aléatoire carrée et un vecteur aléatoire\n",
    "        A = np.random.randint(-10, 10, size=(taille_matrice, taille_matrice))\n",
    "        b = np.random.randint(-10, 10, size=taille_matrice)\n",
    "        \n",
    "        print(f\"Test {i + 1} :\")\n",
    "        print(\"Matrice A :\")\n",
    "        print(A)\n",
    "        print(\"Vecteur b :\")\n",
    "        print(b)\n",
    "        \n",
    "        resultat = verifier_et_donner_solution(A, b)\n",
    "        print(resultat)\n",
    "        print(\"-\" * 50)\n",
    "\n",
    "# Exemple d'utilisation\n",
    "tester_matrices_aleatoires(nombre_matrices=5, taille_matrice=3)"
   ]
  },
  {
   "cell_type": "code",
   "execution_count": 31,
   "id": "1ee6a532",
   "metadata": {},
   "outputs": [
    {
     "name": "stdout",
     "output_type": "stream",
     "text": [
      "[-14.000000000000016, -331.9999999999999, 412.9999999999998, 99.99999999999996, 243.99999999999986]\n"
     ]
    }
   ],
   "source": [
    "import numpy as np\n",
    "from numpy.linalg import det\n",
    "\n",
    "def calculer_determinants_aleatoires(nombre_matrices, taille_matrice):\n",
    "    \"\"\"\n",
    "    Génère des matrices carrées aléatoires et calcule leur déterminant.\n",
    "    \n",
    "    Arguments :\n",
    "    nombre_matrices (int) : Nombre de matrices à générer.\n",
    "    taille_matrice (int) : Taille des matrices carrées (n x n).\n",
    "    \n",
    "    Retourne :\n",
    "    Une liste contenant les déterminants des matrices générées.\n",
    "    \"\"\"\n",
    "    determinants = []\n",
    "    for _ in range(nombre_matrices):\n",
    "        A = np.random.randint(-10, 10, size=(taille_matrice, taille_matrice))\n",
    "        determinants.append(det(A))\n",
    "    return determinants\n",
    "\n",
    "# Exemple d'utilisation\n",
    "resultats = calculer_determinants_aleatoires(nombre_matrices=5, taille_matrice=3)\n",
    "print(resultats)"
   ]
  },
  {
   "cell_type": "code",
   "execution_count": null,
   "id": "7e876275",
   "metadata": {},
   "outputs": [],
   "source": [
    "matrice_solve_a = np.array([[1, 2, -1, 3, 2], \n",
    "                          [2, -1, 3, -1, 1]\n",
    "                          [-1, 3, 2, 2, -3]\n",
    "                         [1, -1, 1, 2, 3]\n",
    "                         [1, 4, -1, 3, 1]])\n",
    "\n",
    "matrice_solve_b = np.array([[8, 15, 7, 20, 5]])"
   ]
  },
  {
   "cell_type": "code",
   "execution_count": null,
   "id": "10ca266d",
   "metadata": {},
   "outputs": [],
   "source": []
  }
 ],
 "metadata": {
  "kernelspec": {
   "display_name": "Python 3 (ipykernel)",
   "language": "python",
   "name": "python3"
  },
  "language_info": {
   "codemirror_mode": {
    "name": "ipython",
    "version": 3
   },
   "file_extension": ".py",
   "mimetype": "text/x-python",
   "name": "python",
   "nbconvert_exporter": "python",
   "pygments_lexer": "ipython3",
   "version": "3.11.1"
  }
 },
 "nbformat": 4,
 "nbformat_minor": 5
}
